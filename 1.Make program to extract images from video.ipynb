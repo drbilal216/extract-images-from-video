{
 "cells": [
  {
   "cell_type": "code",
   "execution_count": null,
   "id": "a8e4d58f",
   "metadata": {},
   "outputs": [],
   "source": [
    "# 1.Make program to extract images from video"
   ]
  },
  {
   "cell_type": "code",
   "execution_count": null,
   "id": "6a37648b",
   "metadata": {},
   "outputs": [],
   "source": [
    "#!pip install opencv-contrib-python\n",
    "\n",
    "# create folder to save frames in\n",
    "import os\n",
    "newpath = r'C:\\Users\\ESHOP\\Desktop\\Task\\1.Make program to extract images from video\\Video to Images' \n",
    "if not os.path.exists(newpath):\n",
    "    os.makedirs(newpath)\n",
    "\n",
    "# Function to save frames from video\n",
    "import cv2\n",
    "cam = cv2.VideoCapture(\"video.mp4\")\n",
    "currentframe = 0\n",
    "\n",
    "while(True):\n",
    "    ret,frame = cam.read()\n",
    "    if ret:\n",
    "        name = 'Video to Images\\Frame(' + str(currentframe) + ').jpg'\n",
    "        cv2.imwrite(name, frame)\n",
    "        currentframe += 1\n",
    "    else:\n",
    "        break\n",
    "        \n",
    "cam.release()\n",
    "cv2.destroyAllWindows()"
   ]
  },
  {
   "cell_type": "code",
   "execution_count": null,
   "id": "7bfccaab",
   "metadata": {},
   "outputs": [],
   "source": [
    "# 1.2.Make program to extract every 5th image from video"
   ]
  },
  {
   "cell_type": "code",
   "execution_count": null,
   "id": "570c81f2",
   "metadata": {},
   "outputs": [],
   "source": [
    "#!pip install opencv-contrib-python\n",
    "\n",
    "# create folder to save frames in\n",
    "import os\n",
    "newpath = r'C:\\Users\\ESHOP\\Desktop\\Task\\1.Make program to extract images from video\\Video to Images' \n",
    "if not os.path.exists(newpath):\n",
    "    os.makedirs(newpath)\n",
    "\n",
    "# Function to save frames from video\n",
    "import cv2\n",
    "cam = cv2.VideoCapture(\"video.mp4\")\n",
    "currentframe = 0\n",
    "count = 0\n",
    "\n",
    "while(True):\n",
    "    ret,frame = cam.read()\n",
    "    if ret:\n",
    "        name = 'Video to Images\\Frame(' + str(currentframe) + ').jpg'\n",
    "        cv2.imwrite(name, frame)\n",
    "        currentframe += 1\n",
    "        count += 5 # How many frames to add\n",
    "        cam.set(cv2.CAP_PROP_POS_FRAMES, count) # Get current frames and add extra frames\n",
    "    else:\n",
    "        break\n",
    "        \n",
    "cam.release()\n",
    "cv2.destroyAllWindows()"
   ]
  },
  {
   "cell_type": "code",
   "execution_count": null,
   "id": "e1fb1977",
   "metadata": {},
   "outputs": [],
   "source": []
  }
 ],
 "metadata": {
  "kernelspec": {
   "display_name": "Python 3 (ipykernel)",
   "language": "python",
   "name": "python3"
  },
  "language_info": {
   "codemirror_mode": {
    "name": "ipython",
    "version": 3
   },
   "file_extension": ".py",
   "mimetype": "text/x-python",
   "name": "python",
   "nbconvert_exporter": "python",
   "pygments_lexer": "ipython3",
   "version": "3.11.4"
  }
 },
 "nbformat": 4,
 "nbformat_minor": 5
}
